{
 "cells": [
  {
   "cell_type": "code",
   "execution_count": null,
   "metadata": {},
   "outputs": [],
   "source": [
    "from tensorflow.keras.models import Sequential\n",
    "from tensorflow.keras.layers import *\n",
    "import tensorflow as tf\n",
    "from PIL import ImageFile\n",
    "ImageFile.LOAD_TRUNCATED_IMAGES = True\n",
    "\n",
    "model2 = Sequential()\n",
    "model2.add(Input(shape=(100,100,3)))\n",
    "model2.add(Conv2D(32, (5, 5),activation='relu',padding='same'))\n",
    "model2.add(MaxPooling2D(pool_size=(2, 2)))\n",
    "model2.add(Conv2D(32, (3, 3),activation='relu',padding='same'))\n",
    "model2.add(MaxPooling2D(pool_size=(2, 2)))\n",
    "model2.add(Conv2D(64, (3, 3),activation='relu',padding='same'))\n",
    "model2.add(MaxPooling2D(pool_size=(2, 2)))\n",
    "model2.add(Conv2D(64, (3, 3),activation='relu',padding='same'))\n",
    "model2.add(MaxPooling2D(pool_size=(2, 2)))   \n",
    "model2.add(Conv2D(128, (3, 3),activation='relu',padding='same'))\n",
    "model2.add(MaxPooling2D(pool_size=(2, 2)))\n",
    "model2.add(Conv2D(128, (3, 3),activation='relu',padding='same'))\n",
    "model2.add(MaxPooling2D(pool_size=(2, 2)))   \n",
    "model2.add(Flatten())\n",
    "model2.add(Dense(512,activation='relu'))\n",
    "model2.add(Dropout(0.25))\n",
    "model2.add(Dense(128,activation='relu'))          \n",
    "model2.add(Dense(2,activation='softmax'))\n",
    "model2.summary()\n",
    "\n",
    "\n",
    "train_path='../input/not-safe-for-work/train'\n",
    "train_gen = tf.keras.preprocessing.image.ImageDataGenerator(rescale=1/255,\n",
    "                                            validation_split=0.2)\n",
    "       \n",
    "train_data_gen = train_gen.flow_from_directory(train_path,\n",
    "                                               target_size=(100,100),\n",
    "                                               class_mode='categorical',\n",
    "                                               batch_size=32,\n",
    "                                               subset=\"training\")\n",
    "\n",
    "val_data_gen =  train_gen.flow_from_directory(train_path,\n",
    "                                              target_size=(100,100),\n",
    "                                              class_mode='categorical',\n",
    "                                              batch_size=32,\n",
    "                                              subset=\"validation\")"
   ]
  },
  {
   "cell_type": "code",
   "execution_count": null,
   "metadata": {},
   "outputs": [],
   "source": [
    "model2.compile(loss='categorical_crossentropy',optimizer='adam',metrics=['accuracy'])\n",
    "history = model2.fit_generator(train_data_gen,\n",
    "                                 steps_per_epoch=200,\n",
    "                                 epochs=6,\n",
    "                                 validation_data=val_data_gen)"
   ]
  },
  {
   "cell_type": "code",
   "execution_count": null,
   "metadata": {},
   "outputs": [],
   "source": [
    "model2.save('model2.h5')"
   ]
  }
 ],
 "metadata": {
  "kernelspec": {
   "display_name": "Python 3.6.6 64-bit",
   "language": "python",
   "name": "python36664bita2c1bdda2d9f4671a83e57cadc2b00b1"
  },
  "language_info": {
   "codemirror_mode": {
    "name": "ipython",
    "version": 3
   },
   "file_extension": ".py",
   "mimetype": "text/x-python",
   "name": "python",
   "nbconvert_exporter": "python",
   "pygments_lexer": "ipython3",
   "version": "3.6.6"
  }
 },
 "nbformat": 4,
 "nbformat_minor": 2
}
